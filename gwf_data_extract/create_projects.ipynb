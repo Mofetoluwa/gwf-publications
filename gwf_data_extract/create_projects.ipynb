{
 "cells": [
  {
   "cell_type": "code",
   "execution_count": null,
   "metadata": {},
   "outputs": [],
   "source": [
    "import pandas as pd\n",
    "\n",
    "doi_prj_df = pd.read_excel('doi2projects.xlsx')"
   ]
  },
  {
   "cell_type": "code",
   "execution_count": null,
   "metadata": {},
   "outputs": [],
   "source": [
    "a = doi_prj_df['Project Name'].value_counts()\n",
    "prj_dict = {}\n",
    "cnt = 1\n",
    "for item, count in a.iteritems():\n",
    "    prj_dict[item] = \"prj\"+str(cnt)\n",
    "    cnt += 1\n",
    "doi_prj_df['prj'] = doi_prj_df['Project Name'].map(prj_dict)    "
   ]
  },
  {
   "cell_type": "code",
   "execution_count": null,
   "metadata": {},
   "outputs": [],
   "source": [
    "doi_prj_df.to_excel('doi2projects1.xlsx', index=False)"
   ]
  },
  {
   "cell_type": "code",
   "execution_count": null,
   "metadata": {},
   "outputs": [],
   "source": [
    "for key, value in prj_dict.items():\n",
    "    print(f'\"{value}\"', end=' ')\n",
    "\n",
    "print()\n",
    "for key, value in prj_dict.items():\n",
    "    print(f'\"{key}\"', end=' ')    "
   ]
  }
 ],
 "metadata": {
  "language_info": {
   "name": "python"
  }
 },
 "nbformat": 4,
 "nbformat_minor": 2
}
